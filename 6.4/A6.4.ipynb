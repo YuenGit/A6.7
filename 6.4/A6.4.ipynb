{
 "cells": [
  {
   "cell_type": "markdown",
   "metadata": {},
   "source": [
    "## 6.4 Machine Learning Part 1"
   ]
  },
  {
   "cell_type": "markdown",
   "metadata": {},
   "source": [
    "### 1. Importing libraries and data"
   ]
  },
  {
   "cell_type": "code",
   "execution_count": 1,
   "metadata": {},
   "outputs": [],
   "source": [
    "import pandas as pd\n",
    "import numpy as np\n",
    "import seaborn as sns\n",
    "import matplotlib\n",
    "import matplotlib.pyplot as plt\n",
    "import os\n",
    "import sklearn\n",
    "from sklearn.model_selection import train_test_split \n",
    "from sklearn.linear_model import LinearRegression\n",
    "from sklearn.metrics import mean_squared_error, r2_score"
   ]
  },
  {
   "cell_type": "code",
   "execution_count": 2,
   "metadata": {},
   "outputs": [],
   "source": [
    "# This option ensures that the graphs you create are displayed within the notebook without the need to \"call\" them specifically.\n",
    "\n",
    "%matplotlib inline"
   ]
  },
  {
   "cell_type": "code",
   "execution_count": 3,
   "metadata": {},
   "outputs": [],
   "source": [
    "path = r'C:\\Users\\bulle\\Documents\\Python Scripts\\Achievement6'"
   ]
  },
  {
   "cell_type": "code",
   "execution_count": 4,
   "metadata": {},
   "outputs": [],
   "source": [
    "df = pd.read_csv(os.path.join(path, 'Data', 'Prepared Data','movie_data_pythonclean.csv'), index_col = 0, encoding='ISO-8859-1')"
   ]
  },
  {
   "cell_type": "markdown",
   "metadata": {},
   "source": [
    "### 2. Data cleaning"
   ]
  },
  {
   "cell_type": "code",
   "execution_count": 5,
   "metadata": {
    "scrolled": true
   },
   "outputs": [
    {
     "data": {
      "text/plain": [
       "Index(['movie_title', 'duration', 'title_year', 'director_name',\n",
       "       'actor_1_name', 'actor_2_name', 'actor_3_name', 'language', 'country',\n",
       "       'content_rating', 'num_critic_for_reviews', 'director_facebook_likes',\n",
       "       'budget', 'gross', 'genres', 'cast_total_facebook_likes', 'imdb_score',\n",
       "       'color', 'plot_keywords'],\n",
       "      dtype='object')"
      ]
     },
     "execution_count": 5,
     "metadata": {},
     "output_type": "execute_result"
    }
   ],
   "source": [
    "df.columns"
   ]
  },
  {
   "cell_type": "code",
   "execution_count": 6,
   "metadata": {
    "scrolled": true
   },
   "outputs": [
    {
     "data": {
      "text/html": [
       "<div>\n",
       "<style scoped>\n",
       "    .dataframe tbody tr th:only-of-type {\n",
       "        vertical-align: middle;\n",
       "    }\n",
       "\n",
       "    .dataframe tbody tr th {\n",
       "        vertical-align: top;\n",
       "    }\n",
       "\n",
       "    .dataframe thead th {\n",
       "        text-align: right;\n",
       "    }\n",
       "</style>\n",
       "<table border=\"1\" class=\"dataframe\">\n",
       "  <thead>\n",
       "    <tr style=\"text-align: right;\">\n",
       "      <th></th>\n",
       "      <th>movie_title</th>\n",
       "      <th>duration</th>\n",
       "      <th>title_year</th>\n",
       "      <th>director_name</th>\n",
       "      <th>actor_1_name</th>\n",
       "      <th>actor_2_name</th>\n",
       "      <th>actor_3_name</th>\n",
       "      <th>language</th>\n",
       "      <th>country</th>\n",
       "      <th>content_rating</th>\n",
       "      <th>num_critic_for_reviews</th>\n",
       "      <th>director_facebook_likes</th>\n",
       "      <th>budget</th>\n",
       "      <th>gross</th>\n",
       "      <th>genres</th>\n",
       "      <th>cast_total_facebook_likes</th>\n",
       "      <th>imdb_score</th>\n",
       "      <th>color</th>\n",
       "      <th>plot_keywords</th>\n",
       "    </tr>\n",
       "  </thead>\n",
       "  <tbody>\n",
       "    <tr>\n",
       "      <th>3</th>\n",
       "      <td>9</td>\n",
       "      <td>112</td>\n",
       "      <td>1986</td>\n",
       "      <td>Adrian Lyne</td>\n",
       "      <td>David Margulies</td>\n",
       "      <td>Karen Young</td>\n",
       "      <td>Kim Chan</td>\n",
       "      <td>English</td>\n",
       "      <td>USA</td>\n",
       "      <td>R</td>\n",
       "      <td>38</td>\n",
       "      <td>213</td>\n",
       "      <td>17000000</td>\n",
       "      <td>6734844</td>\n",
       "      <td>Drama|Romance</td>\n",
       "      <td>711</td>\n",
       "      <td>5</td>\n",
       "      <td>Color</td>\n",
       "      <td>blindfolded woman|control|male dominance|sex g...</td>\n",
       "    </tr>\n",
       "    <tr>\n",
       "      <th>4</th>\n",
       "      <td>9</td>\n",
       "      <td>79</td>\n",
       "      <td>2009</td>\n",
       "      <td>Shane Acker</td>\n",
       "      <td>Martin Landau</td>\n",
       "      <td>Alan Oppenheimer</td>\n",
       "      <td>Tom Kane</td>\n",
       "      <td>English</td>\n",
       "      <td>USA</td>\n",
       "      <td>PG-13</td>\n",
       "      <td>263</td>\n",
       "      <td>30</td>\n",
       "      <td>30000000</td>\n",
       "      <td>31743332</td>\n",
       "      <td>Action|Adventure|Animation|Drama|Mystery|Sci-F...</td>\n",
       "      <td>1594</td>\n",
       "      <td>7</td>\n",
       "      <td>Color</td>\n",
       "      <td>hope|key|machine|number|rag doll</td>\n",
       "    </tr>\n",
       "    <tr>\n",
       "      <th>5</th>\n",
       "      <td>21</td>\n",
       "      <td>123</td>\n",
       "      <td>2008</td>\n",
       "      <td>Robert Luketic</td>\n",
       "      <td>Kevin Spacey</td>\n",
       "      <td>Jim Sturgess</td>\n",
       "      <td>Josh Gad</td>\n",
       "      <td>English</td>\n",
       "      <td>USA</td>\n",
       "      <td>PG-13</td>\n",
       "      <td>144</td>\n",
       "      <td>126</td>\n",
       "      <td>35000000</td>\n",
       "      <td>81159365</td>\n",
       "      <td>Crime|Drama|Thriller</td>\n",
       "      <td>25661</td>\n",
       "      <td>6</td>\n",
       "      <td>Color</td>\n",
       "      <td>based on true story|blackjack|card counting|ga...</td>\n",
       "    </tr>\n",
       "    <tr>\n",
       "      <th>6</th>\n",
       "      <td>42</td>\n",
       "      <td>128</td>\n",
       "      <td>2013</td>\n",
       "      <td>Brian Helgeland</td>\n",
       "      <td>Harrison Ford</td>\n",
       "      <td>Christopher Meloni</td>\n",
       "      <td>Nicole Beharie</td>\n",
       "      <td>English</td>\n",
       "      <td>USA</td>\n",
       "      <td>PG-13</td>\n",
       "      <td>216</td>\n",
       "      <td>241</td>\n",
       "      <td>40000000</td>\n",
       "      <td>95001343</td>\n",
       "      <td>Biography|Drama|Sport</td>\n",
       "      <td>16911</td>\n",
       "      <td>7</td>\n",
       "      <td>Color</td>\n",
       "      <td>baseball|baseball player|brooklyn dodgers|majo...</td>\n",
       "    </tr>\n",
       "    <tr>\n",
       "      <th>7</th>\n",
       "      <td>54</td>\n",
       "      <td>121</td>\n",
       "      <td>1998</td>\n",
       "      <td>Mark Christopher</td>\n",
       "      <td>Salma Hayek</td>\n",
       "      <td>Ellen Albertini Dow</td>\n",
       "      <td>Sela Ward</td>\n",
       "      <td>English</td>\n",
       "      <td>USA</td>\n",
       "      <td>R</td>\n",
       "      <td>63</td>\n",
       "      <td>15</td>\n",
       "      <td>13000000</td>\n",
       "      <td>16574731</td>\n",
       "      <td>Drama|Music</td>\n",
       "      <td>6910</td>\n",
       "      <td>5</td>\n",
       "      <td>Color</td>\n",
       "      <td>angel dust the drug|disco|new york city|quaalu...</td>\n",
       "    </tr>\n",
       "    <tr>\n",
       "      <th>8</th>\n",
       "      <td>300</td>\n",
       "      <td>117</td>\n",
       "      <td>2006</td>\n",
       "      <td>Zack Snyder</td>\n",
       "      <td>Gerard Butler</td>\n",
       "      <td>Michael Fassbender</td>\n",
       "      <td>Vincent Regan</td>\n",
       "      <td>English</td>\n",
       "      <td>USA</td>\n",
       "      <td>R</td>\n",
       "      <td>460</td>\n",
       "      <td>0</td>\n",
       "      <td>65000000</td>\n",
       "      <td>210592590</td>\n",
       "      <td>Action|Drama|Fantasy|War</td>\n",
       "      <td>32360</td>\n",
       "      <td>7</td>\n",
       "      <td>Color</td>\n",
       "      <td>battle|epic|greece|spartan|warrior</td>\n",
       "    </tr>\n",
       "    <tr>\n",
       "      <th>9</th>\n",
       "      <td>1408</td>\n",
       "      <td>114</td>\n",
       "      <td>2007</td>\n",
       "      <td>Mikael HÃÂ´fstrÃÂ¦m</td>\n",
       "      <td>Drew Powell</td>\n",
       "      <td>Kim Thomson</td>\n",
       "      <td>Alexandra Silber</td>\n",
       "      <td>English</td>\n",
       "      <td>USA</td>\n",
       "      <td>PG-13</td>\n",
       "      <td>314</td>\n",
       "      <td>101</td>\n",
       "      <td>25000000</td>\n",
       "      <td>71975611</td>\n",
       "      <td>Fantasy|Horror</td>\n",
       "      <td>214</td>\n",
       "      <td>6</td>\n",
       "      <td>Color</td>\n",
       "      <td>book|debunking|evil|hotel|paranormal phenomena</td>\n",
       "    </tr>\n",
       "    <tr>\n",
       "      <th>11</th>\n",
       "      <td>1911</td>\n",
       "      <td>121</td>\n",
       "      <td>2011</td>\n",
       "      <td>Li Zhang</td>\n",
       "      <td>Bingbing Li</td>\n",
       "      <td>Joan Chen</td>\n",
       "      <td>Jaycee Chan</td>\n",
       "      <td>Mandarin</td>\n",
       "      <td>China</td>\n",
       "      <td>R</td>\n",
       "      <td>63</td>\n",
       "      <td>0</td>\n",
       "      <td>18000000</td>\n",
       "      <td>127437</td>\n",
       "      <td>Action|Adventure|Drama|History|War</td>\n",
       "      <td>1887</td>\n",
       "      <td>6</td>\n",
       "      <td>Color</td>\n",
       "      <td>china|disarming someone|qing dynasty|stabbed w...</td>\n",
       "    </tr>\n",
       "    <tr>\n",
       "      <th>14</th>\n",
       "      <td>2012</td>\n",
       "      <td>158</td>\n",
       "      <td>2009</td>\n",
       "      <td>Roland Emmerich</td>\n",
       "      <td>Oliver Platt</td>\n",
       "      <td>Liam James</td>\n",
       "      <td>Tom McCarthy</td>\n",
       "      <td>English</td>\n",
       "      <td>USA</td>\n",
       "      <td>PG-13</td>\n",
       "      <td>367</td>\n",
       "      <td>776</td>\n",
       "      <td>200000000</td>\n",
       "      <td>166112167</td>\n",
       "      <td>Action|Adventure|Sci-Fi</td>\n",
       "      <td>2144</td>\n",
       "      <td>5</td>\n",
       "      <td>Color</td>\n",
       "      <td>ark|catastrophe|geologist|president|writer</td>\n",
       "    </tr>\n",
       "    <tr>\n",
       "      <th>15</th>\n",
       "      <td>2046</td>\n",
       "      <td>129</td>\n",
       "      <td>2004</td>\n",
       "      <td>Kar-Wai Wong</td>\n",
       "      <td>Li Gong</td>\n",
       "      <td>Tony Chiu Wai Leung</td>\n",
       "      <td>Maggie Cheung</td>\n",
       "      <td>Cantonese</td>\n",
       "      <td>Hong Kong</td>\n",
       "      <td>R</td>\n",
       "      <td>194</td>\n",
       "      <td>0</td>\n",
       "      <td>12000000</td>\n",
       "      <td>261481</td>\n",
       "      <td>Drama|Romance|Sci-Fi</td>\n",
       "      <td>2378</td>\n",
       "      <td>7</td>\n",
       "      <td>Black and White</td>\n",
       "      <td>number in title|train|woman slaps a man|woman ...</td>\n",
       "    </tr>\n",
       "    <tr>\n",
       "      <th>18</th>\n",
       "      <td>[Rec] 2</td>\n",
       "      <td>85</td>\n",
       "      <td>2009</td>\n",
       "      <td>Jaume BalaguerÃ?</td>\n",
       "      <td>Jonathan D. Mellor</td>\n",
       "      <td>Pablo Rosso</td>\n",
       "      <td>Andrea Ros</td>\n",
       "      <td>Spanish</td>\n",
       "      <td>Spain</td>\n",
       "      <td>R</td>\n",
       "      <td>222</td>\n",
       "      <td>57</td>\n",
       "      <td>5600000</td>\n",
       "      <td>27024</td>\n",
       "      <td>Horror</td>\n",
       "      <td>73</td>\n",
       "      <td>6</td>\n",
       "      <td>Color</td>\n",
       "      <td>apartment|apartment building|blood sample|cruc...</td>\n",
       "    </tr>\n",
       "    <tr>\n",
       "      <th>19</th>\n",
       "      <td>10 Cloverfield Lane</td>\n",
       "      <td>104</td>\n",
       "      <td>2016</td>\n",
       "      <td>Dan Trachtenberg</td>\n",
       "      <td>Bradley Cooper</td>\n",
       "      <td>John Gallagher Jr.</td>\n",
       "      <td>Sumalee Montano</td>\n",
       "      <td>English</td>\n",
       "      <td>USA</td>\n",
       "      <td>PG-13</td>\n",
       "      <td>411</td>\n",
       "      <td>16</td>\n",
       "      <td>15000000</td>\n",
       "      <td>71897215</td>\n",
       "      <td>Drama|Horror|Mystery|Sci-Fi|Thriller</td>\n",
       "      <td>14504</td>\n",
       "      <td>7</td>\n",
       "      <td>Color</td>\n",
       "      <td>alien|bunker|car crash|kidnapping|minimal cast</td>\n",
       "    </tr>\n",
       "    <tr>\n",
       "      <th>20</th>\n",
       "      <td>10 Days in a Madhouse</td>\n",
       "      <td>111</td>\n",
       "      <td>2015</td>\n",
       "      <td>Timothy Hines</td>\n",
       "      <td>Christopher Lambert</td>\n",
       "      <td>Kelly LeBrock</td>\n",
       "      <td>Alexandra Callas</td>\n",
       "      <td>English</td>\n",
       "      <td>USA</td>\n",
       "      <td>R</td>\n",
       "      <td>1</td>\n",
       "      <td>0</td>\n",
       "      <td>12000000</td>\n",
       "      <td>14616</td>\n",
       "      <td>Drama</td>\n",
       "      <td>2059</td>\n",
       "      <td>7</td>\n",
       "      <td>Color</td>\n",
       "      <td>NaN</td>\n",
       "    </tr>\n",
       "    <tr>\n",
       "      <th>21</th>\n",
       "      <td>10 Things I Hate About You</td>\n",
       "      <td>97</td>\n",
       "      <td>1999</td>\n",
       "      <td>Gil Junger</td>\n",
       "      <td>Joseph Gordon-Levitt</td>\n",
       "      <td>Heath Ledger</td>\n",
       "      <td>Andrew Keegan</td>\n",
       "      <td>English</td>\n",
       "      <td>USA</td>\n",
       "      <td>PG-13</td>\n",
       "      <td>133</td>\n",
       "      <td>19</td>\n",
       "      <td>16000000</td>\n",
       "      <td>38176108</td>\n",
       "      <td>Comedy|Drama|Romance</td>\n",
       "      <td>37907</td>\n",
       "      <td>7</td>\n",
       "      <td>Color</td>\n",
       "      <td>dating|protective father|school|shrew|teen movie</td>\n",
       "    </tr>\n",
       "    <tr>\n",
       "      <th>23</th>\n",
       "      <td>102 Dalmatians</td>\n",
       "      <td>100</td>\n",
       "      <td>2000</td>\n",
       "      <td>Kevin Lima</td>\n",
       "      <td>Ioan Gruffudd</td>\n",
       "      <td>Eric Idle</td>\n",
       "      <td>Jim Carter</td>\n",
       "      <td>English</td>\n",
       "      <td>USA</td>\n",
       "      <td>G</td>\n",
       "      <td>84</td>\n",
       "      <td>36</td>\n",
       "      <td>85000000</td>\n",
       "      <td>66941559</td>\n",
       "      <td>Adventure|Comedy|Family</td>\n",
       "      <td>4182</td>\n",
       "      <td>4</td>\n",
       "      <td>Color</td>\n",
       "      <td>dog|parole|parole officer|prison|puppy</td>\n",
       "    </tr>\n",
       "    <tr>\n",
       "      <th>24</th>\n",
       "      <td>10th &amp; Wolf</td>\n",
       "      <td>107</td>\n",
       "      <td>2006</td>\n",
       "      <td>Robert Moresco</td>\n",
       "      <td>Brian Dennehy</td>\n",
       "      <td>Brad Renfro</td>\n",
       "      <td>Dash Mihok</td>\n",
       "      <td>English</td>\n",
       "      <td>USA</td>\n",
       "      <td>R</td>\n",
       "      <td>26</td>\n",
       "      <td>53</td>\n",
       "      <td>8000000</td>\n",
       "      <td>53481</td>\n",
       "      <td>Crime|Drama|Thriller</td>\n",
       "      <td>2512</td>\n",
       "      <td>6</td>\n",
       "      <td>Color</td>\n",
       "      <td>desert storm|fbi|fbi agent|fragmentation grena...</td>\n",
       "    </tr>\n",
       "    <tr>\n",
       "      <th>27</th>\n",
       "      <td>12 Rounds</td>\n",
       "      <td>108</td>\n",
       "      <td>2009</td>\n",
       "      <td>Renny Harlin</td>\n",
       "      <td>Taylor Cole</td>\n",
       "      <td>Ashley Scott</td>\n",
       "      <td>Nick Gomez</td>\n",
       "      <td>English</td>\n",
       "      <td>USA</td>\n",
       "      <td>PG-13</td>\n",
       "      <td>113</td>\n",
       "      <td>212</td>\n",
       "      <td>22000000</td>\n",
       "      <td>12232937</td>\n",
       "      <td>Action|Crime|Thriller</td>\n",
       "      <td>2799</td>\n",
       "      <td>5</td>\n",
       "      <td>Color</td>\n",
       "      <td>2000s|detective|sadist|terrorism|terrorist</td>\n",
       "    </tr>\n",
       "    <tr>\n",
       "      <th>28</th>\n",
       "      <td>12 Years a Slave</td>\n",
       "      <td>134</td>\n",
       "      <td>2013</td>\n",
       "      <td>Steve McQueen</td>\n",
       "      <td>QuvenzhanÃÂ© Wallis</td>\n",
       "      <td>Scoot McNairy</td>\n",
       "      <td>Taran Killam</td>\n",
       "      <td>English</td>\n",
       "      <td>USA</td>\n",
       "      <td>R</td>\n",
       "      <td>597</td>\n",
       "      <td>0</td>\n",
       "      <td>20000000</td>\n",
       "      <td>56667870</td>\n",
       "      <td>Biography|Drama|History</td>\n",
       "      <td>4251</td>\n",
       "      <td>8</td>\n",
       "      <td>Color</td>\n",
       "      <td>racism|separation from family|social injustice...</td>\n",
       "    </tr>\n",
       "    <tr>\n",
       "      <th>29</th>\n",
       "      <td>127 Hours</td>\n",
       "      <td>94</td>\n",
       "      <td>2010</td>\n",
       "      <td>Danny Boyle</td>\n",
       "      <td>James Franco</td>\n",
       "      <td>Treat Williams</td>\n",
       "      <td>Kate Burton</td>\n",
       "      <td>English</td>\n",
       "      <td>USA</td>\n",
       "      <td>R</td>\n",
       "      <td>450</td>\n",
       "      <td>0</td>\n",
       "      <td>18000000</td>\n",
       "      <td>18329466</td>\n",
       "      <td>Adventure|Biography|Drama|Thriller</td>\n",
       "      <td>11984</td>\n",
       "      <td>7</td>\n",
       "      <td>Color</td>\n",
       "      <td>alone|aron ralston|based on autobiography|cany...</td>\n",
       "    </tr>\n",
       "    <tr>\n",
       "      <th>30</th>\n",
       "      <td>13 Going on 30</td>\n",
       "      <td>98</td>\n",
       "      <td>2004</td>\n",
       "      <td>Gary Winick</td>\n",
       "      <td>Jennifer Garner</td>\n",
       "      <td>Judy Greer</td>\n",
       "      <td>Christa B. Allen</td>\n",
       "      <td>English</td>\n",
       "      <td>USA</td>\n",
       "      <td>PG-13</td>\n",
       "      <td>119</td>\n",
       "      <td>56</td>\n",
       "      <td>37000000</td>\n",
       "      <td>56044241</td>\n",
       "      <td>Comedy|Fantasy|Romance</td>\n",
       "      <td>6742</td>\n",
       "      <td>6</td>\n",
       "      <td>Color</td>\n",
       "      <td>13 year old|13th birthday|30 year old|wish|yea...</td>\n",
       "    </tr>\n",
       "  </tbody>\n",
       "</table>\n",
       "</div>"
      ],
      "text/plain": [
       "                   movie_title  duration  title_year          director_name  \\\n",
       "3                            9       112        1986            Adrian Lyne   \n",
       "4                            9        79        2009            Shane Acker   \n",
       "5                           21       123        2008         Robert Luketic   \n",
       "6                           42       128        2013        Brian Helgeland   \n",
       "7                           54       121        1998       Mark Christopher   \n",
       "8                          300       117        2006            Zack Snyder   \n",
       "9                         1408       114        2007  Mikael HÃÂ´fstrÃÂ¦m   \n",
       "11                        1911       121        2011               Li Zhang   \n",
       "14                        2012       158        2009        Roland Emmerich   \n",
       "15                        2046       129        2004           Kar-Wai Wong   \n",
       "18                     [Rec] 2        85        2009      Jaume BalaguerÃ?   \n",
       "19         10 Cloverfield Lane       104        2016       Dan Trachtenberg   \n",
       "20       10 Days in a Madhouse       111        2015          Timothy Hines   \n",
       "21  10 Things I Hate About You        97        1999             Gil Junger   \n",
       "23              102 Dalmatians       100        2000             Kevin Lima   \n",
       "24                 10th & Wolf       107        2006         Robert Moresco   \n",
       "27                   12 Rounds       108        2009           Renny Harlin   \n",
       "28            12 Years a Slave       134        2013          Steve McQueen   \n",
       "29                   127 Hours        94        2010            Danny Boyle   \n",
       "30              13 Going on 30        98        2004            Gary Winick   \n",
       "\n",
       "            actor_1_name         actor_2_name      actor_3_name   language  \\\n",
       "3        David Margulies          Karen Young          Kim Chan    English   \n",
       "4          Martin Landau     Alan Oppenheimer          Tom Kane    English   \n",
       "5           Kevin Spacey         Jim Sturgess          Josh Gad    English   \n",
       "6          Harrison Ford   Christopher Meloni    Nicole Beharie    English   \n",
       "7            Salma Hayek  Ellen Albertini Dow         Sela Ward    English   \n",
       "8          Gerard Butler   Michael Fassbender     Vincent Regan    English   \n",
       "9            Drew Powell          Kim Thomson  Alexandra Silber    English   \n",
       "11           Bingbing Li            Joan Chen       Jaycee Chan   Mandarin   \n",
       "14          Oliver Platt           Liam James      Tom McCarthy    English   \n",
       "15               Li Gong  Tony Chiu Wai Leung     Maggie Cheung  Cantonese   \n",
       "18    Jonathan D. Mellor          Pablo Rosso        Andrea Ros    Spanish   \n",
       "19        Bradley Cooper   John Gallagher Jr.   Sumalee Montano    English   \n",
       "20   Christopher Lambert        Kelly LeBrock  Alexandra Callas    English   \n",
       "21  Joseph Gordon-Levitt         Heath Ledger     Andrew Keegan    English   \n",
       "23         Ioan Gruffudd            Eric Idle        Jim Carter    English   \n",
       "24         Brian Dennehy          Brad Renfro        Dash Mihok    English   \n",
       "27           Taylor Cole         Ashley Scott        Nick Gomez    English   \n",
       "28  QuvenzhanÃÂ© Wallis        Scoot McNairy      Taran Killam    English   \n",
       "29          James Franco       Treat Williams       Kate Burton    English   \n",
       "30       Jennifer Garner           Judy Greer  Christa B. Allen    English   \n",
       "\n",
       "      country content_rating  num_critic_for_reviews  director_facebook_likes  \\\n",
       "3         USA              R                      38                      213   \n",
       "4         USA          PG-13                     263                       30   \n",
       "5         USA          PG-13                     144                      126   \n",
       "6         USA          PG-13                     216                      241   \n",
       "7         USA              R                      63                       15   \n",
       "8         USA              R                     460                        0   \n",
       "9         USA          PG-13                     314                      101   \n",
       "11      China              R                      63                        0   \n",
       "14        USA          PG-13                     367                      776   \n",
       "15  Hong Kong              R                     194                        0   \n",
       "18      Spain              R                     222                       57   \n",
       "19        USA          PG-13                     411                       16   \n",
       "20        USA              R                       1                        0   \n",
       "21        USA          PG-13                     133                       19   \n",
       "23        USA              G                      84                       36   \n",
       "24        USA              R                      26                       53   \n",
       "27        USA          PG-13                     113                      212   \n",
       "28        USA              R                     597                        0   \n",
       "29        USA              R                     450                        0   \n",
       "30        USA          PG-13                     119                       56   \n",
       "\n",
       "       budget      gross                                             genres  \\\n",
       "3    17000000    6734844                                      Drama|Romance   \n",
       "4    30000000   31743332  Action|Adventure|Animation|Drama|Mystery|Sci-F...   \n",
       "5    35000000   81159365                               Crime|Drama|Thriller   \n",
       "6    40000000   95001343                              Biography|Drama|Sport   \n",
       "7    13000000   16574731                                        Drama|Music   \n",
       "8    65000000  210592590                           Action|Drama|Fantasy|War   \n",
       "9    25000000   71975611                                     Fantasy|Horror   \n",
       "11   18000000     127437                 Action|Adventure|Drama|History|War   \n",
       "14  200000000  166112167                            Action|Adventure|Sci-Fi   \n",
       "15   12000000     261481                               Drama|Romance|Sci-Fi   \n",
       "18    5600000      27024                                             Horror   \n",
       "19   15000000   71897215               Drama|Horror|Mystery|Sci-Fi|Thriller   \n",
       "20   12000000      14616                                              Drama   \n",
       "21   16000000   38176108                               Comedy|Drama|Romance   \n",
       "23   85000000   66941559                            Adventure|Comedy|Family   \n",
       "24    8000000      53481                               Crime|Drama|Thriller   \n",
       "27   22000000   12232937                              Action|Crime|Thriller   \n",
       "28   20000000   56667870                            Biography|Drama|History   \n",
       "29   18000000   18329466                 Adventure|Biography|Drama|Thriller   \n",
       "30   37000000   56044241                             Comedy|Fantasy|Romance   \n",
       "\n",
       "    cast_total_facebook_likes  imdb_score             color  \\\n",
       "3                         711           5             Color   \n",
       "4                        1594           7             Color   \n",
       "5                       25661           6             Color   \n",
       "6                       16911           7             Color   \n",
       "7                        6910           5             Color   \n",
       "8                       32360           7             Color   \n",
       "9                         214           6             Color   \n",
       "11                       1887           6             Color   \n",
       "14                       2144           5             Color   \n",
       "15                       2378           7   Black and White   \n",
       "18                         73           6             Color   \n",
       "19                      14504           7             Color   \n",
       "20                       2059           7             Color   \n",
       "21                      37907           7             Color   \n",
       "23                       4182           4             Color   \n",
       "24                       2512           6             Color   \n",
       "27                       2799           5             Color   \n",
       "28                       4251           8             Color   \n",
       "29                      11984           7             Color   \n",
       "30                       6742           6             Color   \n",
       "\n",
       "                                        plot_keywords  \n",
       "3   blindfolded woman|control|male dominance|sex g...  \n",
       "4                    hope|key|machine|number|rag doll  \n",
       "5   based on true story|blackjack|card counting|ga...  \n",
       "6   baseball|baseball player|brooklyn dodgers|majo...  \n",
       "7   angel dust the drug|disco|new york city|quaalu...  \n",
       "8                  battle|epic|greece|spartan|warrior  \n",
       "9      book|debunking|evil|hotel|paranormal phenomena  \n",
       "11  china|disarming someone|qing dynasty|stabbed w...  \n",
       "14         ark|catastrophe|geologist|president|writer  \n",
       "15  number in title|train|woman slaps a man|woman ...  \n",
       "18  apartment|apartment building|blood sample|cruc...  \n",
       "19     alien|bunker|car crash|kidnapping|minimal cast  \n",
       "20                                                NaN  \n",
       "21   dating|protective father|school|shrew|teen movie  \n",
       "23             dog|parole|parole officer|prison|puppy  \n",
       "24  desert storm|fbi|fbi agent|fragmentation grena...  \n",
       "27         2000s|detective|sadist|terrorism|terrorist  \n",
       "28  racism|separation from family|social injustice...  \n",
       "29  alone|aron ralston|based on autobiography|cany...  \n",
       "30  13 year old|13th birthday|30 year old|wish|yea...  "
      ]
     },
     "execution_count": 6,
     "metadata": {},
     "output_type": "execute_result"
    }
   ],
   "source": [
    "df.head(20)"
   ]
  },
  {
   "cell_type": "code",
   "execution_count": 7,
   "metadata": {
    "scrolled": true
   },
   "outputs": [
    {
     "data": {
      "text/plain": [
       "(3789, 19)"
      ]
     },
     "execution_count": 7,
     "metadata": {},
     "output_type": "execute_result"
    }
   ],
   "source": [
    "df.shape"
   ]
  },
  {
   "cell_type": "markdown",
   "metadata": {},
   "source": [
    "##### Missing values"
   ]
  },
  {
   "cell_type": "code",
   "execution_count": 8,
   "metadata": {},
   "outputs": [
    {
     "data": {
      "text/plain": [
       "movie_title                   0\n",
       "duration                      0\n",
       "title_year                    0\n",
       "director_name                 0\n",
       "actor_1_name                  3\n",
       "actor_2_name                  5\n",
       "actor_3_name                 10\n",
       "language                      0\n",
       "country                       0\n",
       "content_rating               50\n",
       "num_critic_for_reviews        0\n",
       "director_facebook_likes       0\n",
       "budget                        0\n",
       "gross                         0\n",
       "genres                        0\n",
       "cast_total_facebook_likes     0\n",
       "imdb_score                    0\n",
       "color                         0\n",
       "plot_keywords                29\n",
       "dtype: int64"
      ]
     },
     "execution_count": 8,
     "metadata": {},
     "output_type": "execute_result"
    }
   ],
   "source": [
    "# Check for missing values\n",
    "\n",
    "df.isnull().sum()\n",
    "# No missing values to handle"
   ]
  },
  {
   "cell_type": "markdown",
   "metadata": {},
   "source": [
    "##### Duplicates check"
   ]
  },
  {
   "cell_type": "code",
   "execution_count": 9,
   "metadata": {},
   "outputs": [],
   "source": [
    "dups = df.duplicated()"
   ]
  },
  {
   "cell_type": "code",
   "execution_count": 10,
   "metadata": {},
   "outputs": [
    {
     "data": {
      "text/plain": [
       "(3789,)"
      ]
     },
     "execution_count": 10,
     "metadata": {},
     "output_type": "execute_result"
    }
   ],
   "source": [
    "dups.shape # No dups"
   ]
  },
  {
   "cell_type": "markdown",
   "metadata": {},
   "source": [
    "##### Extreme values checks"
   ]
  },
  {
   "cell_type": "code",
   "execution_count": 11,
   "metadata": {
    "scrolled": true
   },
   "outputs": [
    {
     "name": "stderr",
     "output_type": "stream",
     "text": [
      "D:\\CareerFoundry\\anaconda3\\lib\\site-packages\\seaborn\\distributions.py:2619: FutureWarning: `distplot` is a deprecated function and will be removed in a future version. Please adapt your code to use either `displot` (a figure-level function with similar flexibility) or `histplot` (an axes-level function for histograms).\n",
      "  warnings.warn(msg, FutureWarning)\n"
     ]
    },
    {
     "data": {
      "text/plain": [
       "<AxesSubplot:xlabel='num_critic_for_reviews', ylabel='Density'>"
      ]
     },
     "execution_count": 11,
     "metadata": {},
     "output_type": "execute_result"
    },
    {
     "data": {
      "image/png": "[encoded data removed]",
      "text/plain": [
       "<Figure size 432x288 with 1 Axes>"
      ]
     },
     "metadata": {
      "needs_background": "light"
     },
     "output_type": "display_data"
    }
   ],
   "source": [
    "sns.distplot(df['num_critic_for_reviews'], bins=25) # Shows extreme values\n",
    "\n",
    "# Some of the outliers in the high values may need to be removed, but let's try without doing so first."
   ]
  },
  {
   "cell_type": "code",
   "execution_count": 12,
   "metadata": {},
   "outputs": [
    {
     "data": {
      "text/plain": [
       "160.78701504354711"
      ]
     },
     "execution_count": 12,
     "metadata": {},
     "output_type": "execute_result"
    }
   ],
   "source": [
    "df['num_critic_for_reviews'].mean() # Check the mean"
   ]
  },
  {
   "cell_type": "code",
   "execution_count": 13,
   "metadata": {},
   "outputs": [
    {
     "data": {
      "text/plain": [
       "131.0"
      ]
     },
     "execution_count": 13,
     "metadata": {},
     "output_type": "execute_result"
    }
   ],
   "source": [
    "df['num_critic_for_reviews'].median() # Check the median"
   ]
  },
  {
   "cell_type": "code",
   "execution_count": 14,
   "metadata": {},
   "outputs": [
    {
     "data": {
      "text/plain": [
       "813"
      ]
     },
     "execution_count": 14,
     "metadata": {},
     "output_type": "execute_result"
    }
   ],
   "source": [
    "df['num_critic_for_reviews'].max() # Check the max"
   ]
  },
  {
   "cell_type": "markdown",
   "metadata": {},
   "source": [
    "### 3. Data prep for regression analysis "
   ]
  },
  {
   "cell_type": "markdown",
   "metadata": {},
   "source": [
    "## Scatterplots"
   ]
  },
  {
   "cell_type": "code",
   "execution_count": 15,
   "metadata": {
    "scrolled": true
   },
   "outputs": [
    {
     "data": {
      "image/png": "[encoded data removed]",
      "text/plain": [
       "<Figure size 432x288 with 1 Axes>"
      ]
     },
     "metadata": {
      "needs_background": "light"
     },
     "output_type": "display_data"
    }
   ],
   "source": [
    "# Create a scatterplot using matplotlib for another look at how the chosen variables plot against each other.\n",
    "\n",
    "df.plot(x = 'imdb_score', y='num_critic_for_reviews',style='o') # The style option creates a scatterplot; without it, we only have lines.\n",
    "plt.title('imdb scores vs. num_critic_for_reviews')  \n",
    "plt.xlabel('scores')  \n",
    "plt.ylabel('num_critic_for_reviews')  \n",
    "plt.show()"
   ]
  },
  {
   "cell_type": "code",
   "execution_count": 16,
   "metadata": {
    "scrolled": true
   },
   "outputs": [
    {
     "data": {
      "image/png": "[encoded data removed]",
      "text/plain": [
       "<Figure size 432x288 with 1 Axes>"
      ]
     },
     "metadata": {
      "needs_background": "light"
     },
     "output_type": "display_data"
    }
   ],
   "source": [
    "# Create a scatterplot using matplotlib for another look at how the chosen variables plot against each other.\n",
    "\n",
    "df.plot(x = 'imdb_score', y='cast_total_facebook_likes',style='o') # The style option creates a scatterplot; without it, we only have lines.\n",
    "plt.title('imdb scores vs. cast_total_facebook_likes')  \n",
    "plt.xlabel('scores')  \n",
    "plt.ylabel('cast_total_facebook_likes')  \n",
    "plt.show()"
   ]
  },
  {
   "cell_type": "code",
   "execution_count": 17,
   "metadata": {},
   "outputs": [
    {
     "data": {
      "image/png": "[encoded data removed]",
      "text/plain": [
       "<Figure size 432x288 with 1 Axes>"
      ]
     },
     "metadata": {
      "needs_background": "light"
     },
     "output_type": "display_data"
    }
   ],
   "source": [
    "# Create a scatterplot using matplotlib for another look at how the chosen variables plot against each other.\n",
    "\n",
    "df.plot(x = 'imdb_score', y='gross',style='o') # The style option creates a scatterplot; without it, we only have lines.\n",
    "plt.title('imdb scores vs. gross income')  \n",
    "plt.xlabel('scores')  \n",
    "plt.ylabel('gross income')  \n",
    "plt.show()"
   ]
  },
  {
   "cell_type": "markdown",
   "metadata": {},
   "source": [
    "Hypothesis: The higher the imdb score the movie is, the more number of critic reviews it gets."
   ]
  },
  {
   "cell_type": "code",
   "execution_count": 18,
   "metadata": {},
   "outputs": [],
   "source": [
    "# Reshape the variables into NumPy arrays and put them into separate objects.\n",
    "\n",
    "X = df['imdb_score'].values.reshape(-1,1)\n",
    "y = df['num_critic_for_reviews'].values.reshape(-1,1)"
   ]
  },
  {
   "cell_type": "code",
   "execution_count": 19,
   "metadata": {},
   "outputs": [
    {
     "data": {
      "text/plain": [
       "array([[5],\n",
       "       [7],\n",
       "       [6],\n",
       "       ...,\n",
       "       [6],\n",
       "       [4],\n",
       "       [4]], dtype=int64)"
      ]
     },
     "execution_count": 19,
     "metadata": {},
     "output_type": "execute_result"
    }
   ],
   "source": [
    "X"
   ]
  },
  {
   "cell_type": "code",
   "execution_count": 20,
   "metadata": {},
   "outputs": [
    {
     "data": {
      "text/plain": [
       "array([[ 38],\n",
       "       [263],\n",
       "       [144],\n",
       "       ...,\n",
       "       [135],\n",
       "       [226],\n",
       "       [ 63]], dtype=int64)"
      ]
     },
     "execution_count": 20,
     "metadata": {},
     "output_type": "execute_result"
    }
   ],
   "source": [
    "y"
   ]
  },
  {
   "cell_type": "code",
   "execution_count": 21,
   "metadata": {
    "scrolled": true
   },
   "outputs": [],
   "source": [
    "# Split data into a training set and a test set.\n",
    "\n",
    "X_train, X_test, y_train, y_test = train_test_split(X, y, test_size=0.3, random_state=0)"
   ]
  },
  {
   "cell_type": "markdown",
   "metadata": {},
   "source": [
    "### 4. Regression analysis"
   ]
  },
  {
   "cell_type": "code",
   "execution_count": 22,
   "metadata": {},
   "outputs": [],
   "source": [
    "# Create a regression object.\n",
    "\n",
    "regression = LinearRegression()  # This is the regression object, which will be fit onto the training set."
   ]
  },
  {
   "cell_type": "code",
   "execution_count": 23,
   "metadata": {},
   "outputs": [
    {
     "data": {
      "text/plain": [
       "LinearRegression()"
      ]
     },
     "execution_count": 23,
     "metadata": {},
     "output_type": "execute_result"
    }
   ],
   "source": [
    "# Fit the regression object onto the training set.\n",
    "\n",
    "regression.fit(X_train, y_train)"
   ]
  },
  {
   "cell_type": "code",
   "execution_count": 24,
   "metadata": {},
   "outputs": [],
   "source": [
    "# Predict the values of y using X.\n",
    "\n",
    "y_predicted = regression.predict(X_test)"
   ]
  },
  {
   "cell_type": "code",
   "execution_count": 25,
   "metadata": {},
   "outputs": [
    {
     "data": {
      "image/png": "[encoded data removed]",
      "text/plain": [
       "<Figure size 432x288 with 1 Axes>"
      ]
     },
     "metadata": {
      "needs_background": "light"
     },
     "output_type": "display_data"
    }
   ],
   "source": [
    "# Create a plot that shows the regression line from the model on the test set.\n",
    "\n",
    "plot_test = plt\n",
    "plot_test.scatter(X_test, y_test, color='gray', s = 15)\n",
    "plot_test.plot(X_test, y_predicted, color='red', linewidth =3)\n",
    "plot_test.title('IMDB scores vs number of reviews (Test set)')\n",
    "plot_test.xlabel('IMDB scores')\n",
    "plot_test.ylabel('reviews')\n",
    "plot_test.show()"
   ]
  },
  {
   "cell_type": "code",
   "execution_count": 26,
   "metadata": {},
   "outputs": [],
   "source": [
    "# Create objects that contain the model summary statistics.\n",
    "\n",
    "rmse = mean_squared_error(y_test, y_predicted) # This is the mean squared error\n",
    "r2 = r2_score(y_test, y_predicted) # This is the R2 score. "
   ]
  },
  {
   "cell_type": "code",
   "execution_count": 27,
   "metadata": {
    "scrolled": true
   },
   "outputs": [
    {
     "name": "stdout",
     "output_type": "stream",
     "text": [
      "Slope: [[38.77056202]]\n",
      "Mean squared error:  12454.48627171594\n",
      "R2 score:  0.11364247277847828\n"
     ]
    }
   ],
   "source": [
    "# Print the model summary statistics. This is where you evaluate the performance of the model.\n",
    "\n",
    "print('Slope:' ,regression.coef_)\n",
    "print('Mean squared error: ', rmse)\n",
    "print('R2 score: ', r2)"
   ]
  },
  {
   "cell_type": "markdown",
   "metadata": {},
   "source": [
    "This regression has a positive realationship since the slope is going up. Mean squared error is too large to be a good model to represent the data. The R2 score is 0.11 which is not a good fit either."
   ]
  },
  {
   "cell_type": "code",
   "execution_count": 28,
   "metadata": {},
   "outputs": [
    {
     "data": {
      "text/plain": [
       "array([[198.82518062],\n",
       "       [198.82518062],\n",
       "       [160.0546186 ],\n",
       "       ...,\n",
       "       [160.0546186 ],\n",
       "       [121.28405658],\n",
       "       [160.0546186 ]])"
      ]
     },
     "execution_count": 28,
     "metadata": {},
     "output_type": "execute_result"
    }
   ],
   "source": [
    "y_predicted"
   ]
  },
  {
   "cell_type": "code",
   "execution_count": 46,
   "metadata": {
    "scrolled": true
   },
   "outputs": [
    {
     "data": {
      "text/html": [
       "<div>\n",
       "<style scoped>\n",
       "    .dataframe tbody tr th:only-of-type {\n",
       "        vertical-align: middle;\n",
       "    }\n",
       "\n",
       "    .dataframe tbody tr th {\n",
       "        vertical-align: top;\n",
       "    }\n",
       "\n",
       "    .dataframe thead th {\n",
       "        text-align: right;\n",
       "    }\n",
       "</style>\n",
       "<table border=\"1\" class=\"dataframe\">\n",
       "  <thead>\n",
       "    <tr style=\"text-align: right;\">\n",
       "      <th></th>\n",
       "      <th>Actual</th>\n",
       "      <th>Predicted</th>\n",
       "    </tr>\n",
       "  </thead>\n",
       "  <tbody>\n",
       "    <tr>\n",
       "      <th>0</th>\n",
       "      <td>69</td>\n",
       "      <td>198.825181</td>\n",
       "    </tr>\n",
       "    <tr>\n",
       "      <th>1</th>\n",
       "      <td>81</td>\n",
       "      <td>198.825181</td>\n",
       "    </tr>\n",
       "    <tr>\n",
       "      <th>2</th>\n",
       "      <td>113</td>\n",
       "      <td>160.054619</td>\n",
       "    </tr>\n",
       "    <tr>\n",
       "      <th>3</th>\n",
       "      <td>177</td>\n",
       "      <td>237.595743</td>\n",
       "    </tr>\n",
       "    <tr>\n",
       "      <th>4</th>\n",
       "      <td>79</td>\n",
       "      <td>198.825181</td>\n",
       "    </tr>\n",
       "    <tr>\n",
       "      <th>5</th>\n",
       "      <td>145</td>\n",
       "      <td>160.054619</td>\n",
       "    </tr>\n",
       "    <tr>\n",
       "      <th>6</th>\n",
       "      <td>129</td>\n",
       "      <td>237.595743</td>\n",
       "    </tr>\n",
       "    <tr>\n",
       "      <th>7</th>\n",
       "      <td>74</td>\n",
       "      <td>198.825181</td>\n",
       "    </tr>\n",
       "    <tr>\n",
       "      <th>8</th>\n",
       "      <td>153</td>\n",
       "      <td>237.595743</td>\n",
       "    </tr>\n",
       "    <tr>\n",
       "      <th>9</th>\n",
       "      <td>35</td>\n",
       "      <td>160.054619</td>\n",
       "    </tr>\n",
       "    <tr>\n",
       "      <th>10</th>\n",
       "      <td>81</td>\n",
       "      <td>198.825181</td>\n",
       "    </tr>\n",
       "    <tr>\n",
       "      <th>11</th>\n",
       "      <td>168</td>\n",
       "      <td>121.284057</td>\n",
       "    </tr>\n",
       "    <tr>\n",
       "      <th>12</th>\n",
       "      <td>138</td>\n",
       "      <td>121.284057</td>\n",
       "    </tr>\n",
       "    <tr>\n",
       "      <th>13</th>\n",
       "      <td>66</td>\n",
       "      <td>160.054619</td>\n",
       "    </tr>\n",
       "    <tr>\n",
       "      <th>14</th>\n",
       "      <td>86</td>\n",
       "      <td>82.513495</td>\n",
       "    </tr>\n",
       "    <tr>\n",
       "      <th>15</th>\n",
       "      <td>52</td>\n",
       "      <td>160.054619</td>\n",
       "    </tr>\n",
       "    <tr>\n",
       "      <th>16</th>\n",
       "      <td>377</td>\n",
       "      <td>198.825181</td>\n",
       "    </tr>\n",
       "    <tr>\n",
       "      <th>17</th>\n",
       "      <td>279</td>\n",
       "      <td>160.054619</td>\n",
       "    </tr>\n",
       "    <tr>\n",
       "      <th>18</th>\n",
       "      <td>133</td>\n",
       "      <td>121.284057</td>\n",
       "    </tr>\n",
       "    <tr>\n",
       "      <th>19</th>\n",
       "      <td>48</td>\n",
       "      <td>160.054619</td>\n",
       "    </tr>\n",
       "    <tr>\n",
       "      <th>20</th>\n",
       "      <td>654</td>\n",
       "      <td>198.825181</td>\n",
       "    </tr>\n",
       "    <tr>\n",
       "      <th>21</th>\n",
       "      <td>85</td>\n",
       "      <td>121.284057</td>\n",
       "    </tr>\n",
       "    <tr>\n",
       "      <th>22</th>\n",
       "      <td>210</td>\n",
       "      <td>160.054619</td>\n",
       "    </tr>\n",
       "    <tr>\n",
       "      <th>23</th>\n",
       "      <td>134</td>\n",
       "      <td>160.054619</td>\n",
       "    </tr>\n",
       "    <tr>\n",
       "      <th>24</th>\n",
       "      <td>120</td>\n",
       "      <td>121.284057</td>\n",
       "    </tr>\n",
       "    <tr>\n",
       "      <th>25</th>\n",
       "      <td>158</td>\n",
       "      <td>160.054619</td>\n",
       "    </tr>\n",
       "    <tr>\n",
       "      <th>26</th>\n",
       "      <td>397</td>\n",
       "      <td>160.054619</td>\n",
       "    </tr>\n",
       "    <tr>\n",
       "      <th>27</th>\n",
       "      <td>310</td>\n",
       "      <td>198.825181</td>\n",
       "    </tr>\n",
       "    <tr>\n",
       "      <th>28</th>\n",
       "      <td>123</td>\n",
       "      <td>198.825181</td>\n",
       "    </tr>\n",
       "    <tr>\n",
       "      <th>29</th>\n",
       "      <td>161</td>\n",
       "      <td>160.054619</td>\n",
       "    </tr>\n",
       "  </tbody>\n",
       "</table>\n",
       "</div>"
      ],
      "text/plain": [
       "    Actual   Predicted\n",
       "0       69  198.825181\n",
       "1       81  198.825181\n",
       "2      113  160.054619\n",
       "3      177  237.595743\n",
       "4       79  198.825181\n",
       "5      145  160.054619\n",
       "6      129  237.595743\n",
       "7       74  198.825181\n",
       "8      153  237.595743\n",
       "9       35  160.054619\n",
       "10      81  198.825181\n",
       "11     168  121.284057\n",
       "12     138  121.284057\n",
       "13      66  160.054619\n",
       "14      86   82.513495\n",
       "15      52  160.054619\n",
       "16     377  198.825181\n",
       "17     279  160.054619\n",
       "18     133  121.284057\n",
       "19      48  160.054619\n",
       "20     654  198.825181\n",
       "21      85  121.284057\n",
       "22     210  160.054619\n",
       "23     134  160.054619\n",
       "24     120  121.284057\n",
       "25     158  160.054619\n",
       "26     397  160.054619\n",
       "27     310  198.825181\n",
       "28     123  198.825181\n",
       "29     161  160.054619"
      ]
     },
     "execution_count": 46,
     "metadata": {},
     "output_type": "execute_result"
    }
   ],
   "source": [
    "# Create a dataframe comparing the actual and predicted values of y.\n",
    "\n",
    "data = pd.DataFrame({'Actual': y_test.flatten(), 'Predicted': y_predicted.flatten()})\n",
    "data.head(30)"
   ]
  },
  {
   "cell_type": "markdown",
   "metadata": {},
   "source": [
    "##### Compare how the regression fits the training set"
   ]
  },
  {
   "cell_type": "code",
   "execution_count": 51,
   "metadata": {},
   "outputs": [],
   "source": [
    "# Predict.\n",
    "\n",
    "y_predicted_train = regression.predict(X_train) # This is predicting X_train!"
   ]
  },
  {
   "cell_type": "code",
   "execution_count": 52,
   "metadata": {
    "scrolled": false
   },
   "outputs": [
    {
     "data": {
      "image/png": "[encoded data removed]",
      "text/plain": [
       "<Figure size 432x288 with 1 Axes>"
      ]
     },
     "metadata": {
      "needs_background": "light"
     },
     "output_type": "display_data"
    }
   ],
   "source": [
    "# Visualizing the training set results.\n",
    "\n",
    "plot_test = plt\n",
    "plot_test.scatter(X_train, y_train, color='green', s = 15)\n",
    "plot_test.plot(X_train, y_predicted_train, color='red', linewidth =3)\n",
    "plot_test.title('IMDB scores vs number of reviews  (Train set)')\n",
    "plot_test.xlabel('IMDB scores')\n",
    "plot_test.ylabel('reviews')\n",
    "plot_test.show()"
   ]
  },
  {
   "cell_type": "code",
   "execution_count": 53,
   "metadata": {},
   "outputs": [],
   "source": [
    "rmse = mean_squared_error(y_train, y_predicted_train)\n",
    "r2 = r2_score(y_train, y_predicted_train)"
   ]
  },
  {
   "cell_type": "code",
   "execution_count": 54,
   "metadata": {},
   "outputs": [
    {
     "name": "stdout",
     "output_type": "stream",
     "text": [
      "Slope: [[38.29684718]]\n",
      "Mean squared error:  13731.343790002948\n",
      "R2 score:  0.11447922143296463\n"
     ]
    }
   ],
   "source": [
    "print('Slope:' ,regression.coef_)\n",
    "print('Mean squared error: ', rmse)\n",
    "print('R2 score: ', r2)"
   ]
  },
  {
   "cell_type": "markdown",
   "metadata": {},
   "source": [
    "Both Training set and test set have low score. It's performing bad which considered as underfitting."
   ]
  }
 ],
 "metadata": {
  "kernelspec": {
   "display_name": "Python 3 (ipykernel)",
   "language": "python",
   "name": "python3"
  },
  "language_info": {
   "codemirror_mode": {
    "name": "ipython",
    "version": 3
   },
   "file_extension": ".py",
   "mimetype": "text/x-python",
   "name": "python",
   "nbconvert_exporter": "python",
   "pygments_lexer": "ipython3",
   "version": "3.9.12"
  }
 },
 "nbformat": 4,
 "nbformat_minor": 4
}
