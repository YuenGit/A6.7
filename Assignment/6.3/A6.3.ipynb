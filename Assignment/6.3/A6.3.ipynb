{
 "cells": [
  {
   "cell_type": "markdown",
   "id": "095a6e8c",
   "metadata": {},
   "source": [
    "# 01 Import Libraries and Data"
   ]
  },
  {
   "cell_type": "code",
   "execution_count": 1,
   "id": "a37440f1",
   "metadata": {
    "scrolled": true
   },
   "outputs": [
    {
     "name": "stdout",
     "output_type": "stream",
     "text": [
      "Requirement already satisfied: folium in d:\\careerfoundry\\anaconda3\\lib\\site-packages (0.13.0)\n",
      "Requirement already satisfied: branca>=0.3.0 in d:\\careerfoundry\\anaconda3\\lib\\site-packages (from folium) (0.5.0)\n",
      "Requirement already satisfied: jinja2>=2.9 in d:\\careerfoundry\\anaconda3\\lib\\site-packages (from folium) (2.11.3)\n",
      "Requirement already satisfied: requests in d:\\careerfoundry\\anaconda3\\lib\\site-packages (from folium) (2.27.1)\n",
      "Requirement already satisfied: numpy in d:\\careerfoundry\\anaconda3\\lib\\site-packages (from folium) (1.21.5)\n",
      "Requirement already satisfied: MarkupSafe>=0.23 in d:\\careerfoundry\\anaconda3\\lib\\site-packages (from jinja2>=2.9->folium) (2.0.1)\n",
      "Requirement already satisfied: urllib3<1.27,>=1.21.1 in d:\\careerfoundry\\anaconda3\\lib\\site-packages (from requests->folium) (1.26.9)\n",
      "Requirement already satisfied: idna<4,>=2.5 in d:\\careerfoundry\\anaconda3\\lib\\site-packages (from requests->folium) (3.3)\n",
      "Requirement already satisfied: charset-normalizer~=2.0.0 in d:\\careerfoundry\\anaconda3\\lib\\site-packages (from requests->folium) (2.0.4)\n",
      "Requirement already satisfied: certifi>=2017.4.17 in d:\\careerfoundry\\anaconda3\\lib\\site-packages (from requests->folium) (2021.10.8)\n"
     ]
    }
   ],
   "source": [
    "!pip install folium\n",
    "import pandas as pd\n",
    "import numpy as np\n",
    "import seaborn as sns\n",
    "import matplotlib\n",
    "import os\n",
    "import folium\n",
    "import json\n",
    "import io"
   ]
  },
  {
   "cell_type": "code",
   "execution_count": 2,
   "id": "f0e6142e",
   "metadata": {},
   "outputs": [],
   "source": [
    "# This command propts matplotlib visuals to appear in the notebook \n",
    "\n",
    "%matplotlib inline"
   ]
  },
  {
   "cell_type": "code",
   "execution_count": 3,
   "id": "0947558b",
   "metadata": {},
   "outputs": [],
   "source": [
    "# Import \".geojson\" file for the U.S. \n",
    "\n",
    "country_geo = r'C:\\Users\\bulle\\Documents\\Python Scripts\\Achievement6\\6.3\\world.geojson'"
   ]
  },
  {
   "cell_type": "code",
   "execution_count": 6,
   "id": "2cf49b3f",
   "metadata": {
    "scrolled": true
   },
   "outputs": [
    {
     "ename": "FileNotFoundError",
     "evalue": "[Errno 2] No such file or directory: 'C:\\\\Users\\\\bulle\\\\Documents\\\\Python Scripts\\\\Achievement6\\\\6.3\\\\world.geojson'",
     "output_type": "error",
     "traceback": [
      "\u001b[1;31m---------------------------------------------------------------------------\u001b[0m",
      "\u001b[1;31mFileNotFoundError\u001b[0m                         Traceback (most recent call last)",
      "Input \u001b[1;32mIn [6]\u001b[0m, in \u001b[0;36m<cell line: 3>\u001b[1;34m()\u001b[0m\n\u001b[0;32m      1\u001b[0m \u001b[38;5;66;03m# That's just in case you want to look at the JSON file contents here too:\u001b[39;00m\n\u001b[1;32m----> 3\u001b[0m f \u001b[38;5;241m=\u001b[39m \u001b[38;5;28;43mopen\u001b[39;49m\u001b[43m(\u001b[49m\u001b[38;5;124;43mr\u001b[39;49m\u001b[38;5;124;43m'\u001b[39;49m\u001b[38;5;124;43mC:\u001b[39;49m\u001b[38;5;124;43m\\\u001b[39;49m\u001b[38;5;124;43mUsers\u001b[39;49m\u001b[38;5;124;43m\\\u001b[39;49m\u001b[38;5;124;43mbulle\u001b[39;49m\u001b[38;5;124;43m\\\u001b[39;49m\u001b[38;5;124;43mDocuments\u001b[39;49m\u001b[38;5;124;43m\\\u001b[39;49m\u001b[38;5;124;43mPython Scripts\u001b[39;49m\u001b[38;5;124;43m\\\u001b[39;49m\u001b[38;5;124;43mAchievement6\u001b[39;49m\u001b[38;5;124;43m\\\u001b[39;49m\u001b[38;5;124;43m6.3\u001b[39;49m\u001b[38;5;124;43m\\\u001b[39;49m\u001b[38;5;124;43mworld.geojson\u001b[39;49m\u001b[38;5;124;43m'\u001b[39;49m\u001b[43m)\u001b[49m\n\u001b[0;32m      5\u001b[0m \u001b[38;5;66;03m# returns JSON object asa dictionary\u001b[39;00m\n\u001b[0;32m      6\u001b[0m data \u001b[38;5;241m=\u001b[39m json\u001b[38;5;241m.\u001b[39mload(f)\n",
      "\u001b[1;31mFileNotFoundError\u001b[0m: [Errno 2] No such file or directory: 'C:\\\\Users\\\\bulle\\\\Documents\\\\Python Scripts\\\\Achievement6\\\\6.3\\\\world.geojson'"
     ]
    }
   ],
   "source": [
    "# That's just in case you want to look at the JSON file contents here too:\n",
    "\n",
    "f = open(r'C:\\Users\\bulle\\Documents\\Python Scripts\\Achievement6\\6.3\\world.geojson')\n",
    "  \n",
    "# returns JSON object asa dictionary\n",
    "data = json.load(f)\n",
    "\n",
    "# Iterating through the json list\n",
    "for i in data['features']:\n",
    "    print(i)"
   ]
  },
  {
   "cell_type": "code",
   "execution_count": null,
   "id": "88bb3d25",
   "metadata": {},
   "outputs": [],
   "source": [
    "path =r'C:\\Users\\bulle\\Documents\\Python Scripts\\Achievement6'"
   ]
  },
  {
   "cell_type": "code",
   "execution_count": null,
   "id": "19b0f726",
   "metadata": {},
   "outputs": [],
   "source": [
    "# Import the recipes data\n",
    "\n",
    "df = pd.read_csv(os.path.join(path, 'Data', 'Prepared Data','movie_data_nameclean.csv'), index_col = 0, encoding='ISO-8859-1')"
   ]
  },
  {
   "cell_type": "code",
   "execution_count": null,
   "id": "414cf110",
   "metadata": {},
   "outputs": [],
   "source": [
    "df.head()"
   ]
  },
  {
   "cell_type": "code",
   "execution_count": null,
   "id": "969e3a5c",
   "metadata": {
    "scrolled": true
   },
   "outputs": [],
   "source": [
    "df.shape"
   ]
  },
  {
   "cell_type": "code",
   "execution_count": null,
   "id": "9dd824e2",
   "metadata": {},
   "outputs": [],
   "source": [
    "df.describe().round"
   ]
  },
  {
   "cell_type": "code",
   "execution_count": null,
   "id": "faed9c82",
   "metadata": {},
   "outputs": [],
   "source": [
    "df=df.replace('USA','United States')"
   ]
  },
  {
   "cell_type": "code",
   "execution_count": null,
   "id": "261f7640",
   "metadata": {},
   "outputs": [],
   "source": [
    "# Check for missing values\n",
    "\n",
    "df.isnull().sum()"
   ]
  },
  {
   "cell_type": "code",
   "execution_count": null,
   "id": "a228b11b",
   "metadata": {},
   "outputs": [],
   "source": [
    "df.head()"
   ]
  },
  {
   "cell_type": "code",
   "execution_count": null,
   "id": "67e1e5eb",
   "metadata": {},
   "outputs": [],
   "source": [
    "df2=df[['country', 'imdb_score']]"
   ]
  },
  {
   "cell_type": "code",
   "execution_count": null,
   "id": "c64fbac0",
   "metadata": {},
   "outputs": [],
   "source": [
    "# Setup a folium map at a high-level zoom\n",
    "map = folium.Map(location = [50, 20], zoom_start = 1.5)\n",
    "\n",
    "# Choropleth maps bind Pandas Data Frames and json geometries.This allows us to quickly visualize data combinations\n",
    "folium.Choropleth(\n",
    "    geo_data = country_geo, \n",
    "    data = df2,\n",
    "    columns = ['country', 'imdb_score'],\n",
    "    key_on = 'feature.properties.NAME', # this part is very important - check your json file to see where the KEY is located\n",
    "    fill_color = 'YlOrBr', fill_opacity=0.6, line_opacity=0.1,\n",
    "    legend_name = \"imdb_score\").add_to(map)\n",
    "folium.LayerControl().add_to(map)\n",
    "\n",
    "map"
   ]
  },
  {
   "cell_type": "markdown",
   "id": "e6f72fc1",
   "metadata": {},
   "source": [
    "#Q8 \n",
    "Does the analysis answer any of your existing research questions?\n",
    "  -Movies from France and Argintina have a high rating from IMDB. \n",
    "\n",
    "Does the analysis lead you to any new research questions?\n",
    "  -How many votes are in the movies and how many movies are in a country that's accounted for?\n",
    "  -why are United States with such a low rating?"
   ]
  },
  {
   "cell_type": "code",
   "execution_count": null,
   "id": "a73899fe",
   "metadata": {},
   "outputs": [],
   "source": []
  }
 ],
 "metadata": {
  "kernelspec": {
   "display_name": "Python 3 (ipykernel)",
   "language": "python",
   "name": "python3"
  },
  "language_info": {
   "codemirror_mode": {
    "name": "ipython",
    "version": 3
   },
   "file_extension": ".py",
   "mimetype": "text/x-python",
   "name": "python",
   "nbconvert_exporter": "python",
   "pygments_lexer": "ipython3",
   "version": "3.9.12"
  }
 },
 "nbformat": 4,
 "nbformat_minor": 5
}
